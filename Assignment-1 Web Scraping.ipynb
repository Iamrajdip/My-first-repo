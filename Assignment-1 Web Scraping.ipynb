{
 "cells": [
  {
   "cell_type": "markdown",
   "id": "37f0d5f2",
   "metadata": {},
   "source": [
    "# Write a python program to display all the header tags from wikipedia.org and make data frame."
   ]
  },
  {
   "cell_type": "code",
   "execution_count": 1,
   "id": "d3adf3ad",
   "metadata": {
    "scrolled": true
   },
   "outputs": [
    {
     "data": {
      "text/plain": [
       "['Welcome to Wikipedia',\n",
       " \"From today's featured article\",\n",
       " 'Did you know\\xa0...',\n",
       " 'In the news',\n",
       " 'On this day',\n",
       " \"From today's featured list\",\n",
       " \"Today's featured picture\",\n",
       " 'Other areas of Wikipedia',\n",
       " \"Wikipedia's sister projects\",\n",
       " 'Wikipedia languages']"
      ]
     },
     "execution_count": 1,
     "metadata": {},
     "output_type": "execute_result"
    }
   ],
   "source": [
    "import requests\n",
    "from bs4 import BeautifulSoup\n",
    " \n",
    "URL = 'https://en.wikipedia.org/wiki/Main_Page'\n",
    "request = requests.get(URL)\n",
    " \n",
    "Soup = BeautifulSoup(request.content)\n",
    " \n",
    "#creating a list of all common heading tags\n",
    "headers=[]\n",
    "for i in Soup.find_all('span',class_=\"mw-headline\"):\n",
    "    headers.append(i.text)\n",
    "headers"
   ]
  },
  {
   "cell_type": "markdown",
   "id": "92ab2b10",
   "metadata": {},
   "source": [
    "# Write s python program to display list of respected former presidents of India(i.e. Name , Term ofoffice) from https://presidentofindia.nic.in/former-presidents.htm and make data frame."
   ]
  },
  {
   "cell_type": "code",
   "execution_count": 2,
   "id": "5502d6fe",
   "metadata": {},
   "outputs": [
    {
     "data": {
      "text/plain": [
       "<Response [200]>"
      ]
     },
     "execution_count": 2,
     "metadata": {},
     "output_type": "execute_result"
    }
   ],
   "source": [
    "page4=requests.get(\"https://presidentofindia.nic.in/former-presidents.htm\")\n",
    "page4"
   ]
  },
  {
   "cell_type": "code",
   "execution_count": 5,
   "id": "bf719bb3",
   "metadata": {},
   "outputs": [
    {
     "data": {
      "text/plain": [
       "[' Shri Ram Nath Kovind ',\n",
       " ' Shri Pranab Mukherjee ',\n",
       " ' Smt Pratibha Devisingh Patil ',\n",
       " ' DR. A.P.J. Abdul Kalam ',\n",
       " ' Shri K. R. Narayanan ',\n",
       " ' Dr Shankar Dayal Sharma ',\n",
       " ' Shri R Venkataraman ',\n",
       " ' Giani Zail Singh ',\n",
       " ' Shri Neelam Sanjiva Reddy ',\n",
       " ' Dr. Fakhruddin Ali Ahmed ',\n",
       " ' Shri Varahagiri Venkata Giri ',\n",
       " ' Dr. Zakir Husain ',\n",
       " ' Dr. Sarvepalli Radhakrishnan ',\n",
       " ' Dr. Rajendra Prasad ']"
      ]
     },
     "execution_count": 5,
     "metadata": {},
     "output_type": "execute_result"
    }
   ],
   "source": [
    "soup= BeautifulSoup(page4.content)\n",
    "\n",
    "President=[]\n",
    "for i in soup(\"div\",class_=\"presidentListing\"):\n",
    "    President.append(i.text.replace(\"\\n\",\" \").split(\"(\")[0])\n",
    "President"
   ]
  },
  {
   "cell_type": "code",
   "execution_count": 6,
   "id": "d7c9b202",
   "metadata": {},
   "outputs": [
    {
     "data": {
      "text/plain": [
       "[' Shri Ram Nath Kovind (birth - 1945) Term of Office: 25 July, 2017 to 25 July, 2022  https://ramnathkovind.nic.in ',\n",
       " ' Shri Pranab Mukherjee (1935-2020) Term of Office: 25 July, 2012 to 25 July, 2017  http://pranabmukherjee.nic.in ',\n",
       " ' Smt Pratibha Devisingh Patil (birth - 1934) Term of Office: 25 July, 2007 to 25 July, 2012  http://pratibhapatil.nic.in ',\n",
       " ' DR. A.P.J. Abdul Kalam (1931-2015) Term of Office: 25 July, 2002 to 25 July, 2007  http://abdulkalam.nic.in ',\n",
       " ' Shri K. R. Narayanan (1920 - 2005) Term of Office: 25 July, 1997 to 25 July, 2002  ',\n",
       " ' Dr Shankar Dayal Sharma (1918-1999) Term of Office: 25 July, 1992 to 25 July, 1997  ',\n",
       " ' Shri R Venkataraman (1910-2009) Term of Office: 25 July, 1987 to 25 July, 1992  ',\n",
       " ' Giani Zail Singh (1916-1994) Term of Office: 25 July, 1982 to 25 July, 1987  ',\n",
       " ' Shri Neelam Sanjiva Reddy (1913-1996) Term of Office: 25 July, 1977 to 25 July, 1982  ',\n",
       " ' Dr. Fakhruddin Ali Ahmed (1905-1977) Term of Office: 24 August, 1974 to 11 February, 1977 ',\n",
       " ' Shri Varahagiri Venkata Giri (1894-1980) Term of Office: 3 May, 1969 to 20 July, 1969 and 24 August, 1969 to 24 August, 1974 ',\n",
       " ' Dr. Zakir Husain (1897-1969) Term of Office: 13 May, 1967 to 3 May, 1969 ',\n",
       " ' Dr. Sarvepalli Radhakrishnan (1888-1975) Term of Office: 13 May, 1962 to 13 May, 1967 ',\n",
       " ' Dr. Rajendra Prasad (1884-1963)  Term of Office: 26 January, 1950 to 13 May, 1962 ']"
      ]
     },
     "execution_count": 6,
     "metadata": {},
     "output_type": "execute_result"
    }
   ],
   "source": [
    "President=[]\n",
    "for i in soup(\"div\",class_=\"presidentListing\"):\n",
    "    President.append(i.text.replace(\"\\n\",\" \").split(\"\\n\")[0])\n",
    "President"
   ]
  },
  {
   "cell_type": "markdown",
   "id": "d4c9d22c",
   "metadata": {},
   "source": [
    "# Write a python program to scrape cricket rankings from icc-cricket.com. You have to scrape and make data frame-"
   ]
  },
  {
   "cell_type": "markdown",
   "id": "1c495d80",
   "metadata": {},
   "source": [
    "a) Top 10 ODI teams in men’s cricket along with the records for matches, points and rating.\n",
    "b) Top 10 ODI Batsmen along with the records of their team andrating.\n",
    "c) Top 10 ODI bowlers along with the records of their team andrating."
   ]
  },
  {
   "cell_type": "code",
   "execution_count": 13,
   "id": "dac5cb1d",
   "metadata": {},
   "outputs": [],
   "source": [
    "import requests\n",
    "from bs4 import BeautifulSoup\n",
    "import pandas as pd"
   ]
  },
  {
   "cell_type": "code",
   "execution_count": 17,
   "id": "564625f1",
   "metadata": {},
   "outputs": [
    {
     "data": {
      "text/html": [
       "<div>\n",
       "<style scoped>\n",
       "    .dataframe tbody tr th:only-of-type {\n",
       "        vertical-align: middle;\n",
       "    }\n",
       "\n",
       "    .dataframe tbody tr th {\n",
       "        vertical-align: top;\n",
       "    }\n",
       "\n",
       "    .dataframe thead th {\n",
       "        text-align: right;\n",
       "    }\n",
       "</style>\n",
       "<table border=\"1\" class=\"dataframe\">\n",
       "  <thead>\n",
       "    <tr style=\"text-align: right;\">\n",
       "      <th></th>\n",
       "      <th>Team</th>\n",
       "      <th>Matches</th>\n",
       "      <th>Points</th>\n",
       "      <th>Rating</th>\n",
       "    </tr>\n",
       "  </thead>\n",
       "  <tbody>\n",
       "    <tr>\n",
       "      <th>0</th>\n",
       "      <td>Australia\\nAUS</td>\n",
       "      <td>23</td>\n",
       "      <td>2,714</td>\n",
       "      <td>\\n                            118\\n           ...</td>\n",
       "    </tr>\n",
       "    <tr>\n",
       "      <th>1</th>\n",
       "      <td>Pakistan\\nPAK</td>\n",
       "      <td>20</td>\n",
       "      <td>2,316</td>\n",
       "      <td>116</td>\n",
       "    </tr>\n",
       "    <tr>\n",
       "      <th>2</th>\n",
       "      <td>India\\nIND</td>\n",
       "      <td>33</td>\n",
       "      <td>3,807</td>\n",
       "      <td>115</td>\n",
       "    </tr>\n",
       "    <tr>\n",
       "      <th>3</th>\n",
       "      <td>New Zealand\\nNZ</td>\n",
       "      <td>27</td>\n",
       "      <td>2,806</td>\n",
       "      <td>104</td>\n",
       "    </tr>\n",
       "    <tr>\n",
       "      <th>4</th>\n",
       "      <td>England\\nENG</td>\n",
       "      <td>24</td>\n",
       "      <td>2,426</td>\n",
       "      <td>101</td>\n",
       "    </tr>\n",
       "    <tr>\n",
       "      <th>5</th>\n",
       "      <td>South Africa\\nSA</td>\n",
       "      <td>19</td>\n",
       "      <td>1,910</td>\n",
       "      <td>101</td>\n",
       "    </tr>\n",
       "    <tr>\n",
       "      <th>6</th>\n",
       "      <td>Bangladesh\\nBAN</td>\n",
       "      <td>25</td>\n",
       "      <td>2,451</td>\n",
       "      <td>98</td>\n",
       "    </tr>\n",
       "    <tr>\n",
       "      <th>7</th>\n",
       "      <td>Sri Lanka\\nSL</td>\n",
       "      <td>28</td>\n",
       "      <td>2,378</td>\n",
       "      <td>85</td>\n",
       "    </tr>\n",
       "    <tr>\n",
       "      <th>8</th>\n",
       "      <td>Afghanistan\\nAFG</td>\n",
       "      <td>13</td>\n",
       "      <td>1,067</td>\n",
       "      <td>82</td>\n",
       "    </tr>\n",
       "    <tr>\n",
       "      <th>9</th>\n",
       "      <td>West Indies\\nWI</td>\n",
       "      <td>32</td>\n",
       "      <td>2,201</td>\n",
       "      <td>69</td>\n",
       "    </tr>\n",
       "  </tbody>\n",
       "</table>\n",
       "</div>"
      ],
      "text/plain": [
       "               Team Matches Points  \\\n",
       "0    Australia\\nAUS      23  2,714   \n",
       "1     Pakistan\\nPAK      20  2,316   \n",
       "2        India\\nIND      33  3,807   \n",
       "3   New Zealand\\nNZ      27  2,806   \n",
       "4      England\\nENG      24  2,426   \n",
       "5  South Africa\\nSA      19  1,910   \n",
       "6   Bangladesh\\nBAN      25  2,451   \n",
       "7     Sri Lanka\\nSL      28  2,378   \n",
       "8  Afghanistan\\nAFG      13  1,067   \n",
       "9   West Indies\\nWI      32  2,201   \n",
       "\n",
       "                                              Rating  \n",
       "0  \\n                            118\\n           ...  \n",
       "1                                                116  \n",
       "2                                                115  \n",
       "3                                                104  \n",
       "4                                                101  \n",
       "5                                                101  \n",
       "6                                                 98  \n",
       "7                                                 85  \n",
       "8                                                 82  \n",
       "9                                                 69  "
      ]
     },
     "execution_count": 17,
     "metadata": {},
     "output_type": "execute_result"
    }
   ],
   "source": [
    "url = 'https://www.icc-cricket.com/rankings/mens/team-rankings/odi'\n",
    "response = requests.get(url)\n",
    "\n",
    "soup = BeautifulSoup(response.content, 'html.parser')\n",
    "\n",
    "table = soup.find('table', {'class': 'table'})\n",
    "\n",
    "teams = []\n",
    "matches = []\n",
    "points = []\n",
    "ratings = []\n",
    "\n",
    "rows = table.find_all('tr')[1:11] \n",
    "\n",
    "for row in rows:\n",
    "    cols = row.find_all('td')\n",
    "    teams.append(cols[1].text.strip())\n",
    "    matches.append(cols[2].text)\n",
    "    points.append(cols[3].text)\n",
    "    ratings.append(cols[4].text)\n",
    "\n",
    "data = {'Team': teams,'Matches': matches,'Points': points,'Rating': ratings}\n",
    "\n",
    "df = pd.DataFrame(data)\n",
    "\n",
    "df"
   ]
  },
  {
   "cell_type": "code",
   "execution_count": 16,
   "id": "98e64e68",
   "metadata": {},
   "outputs": [
    {
     "data": {
      "text/html": [
       "<div>\n",
       "<style scoped>\n",
       "    .dataframe tbody tr th:only-of-type {\n",
       "        vertical-align: middle;\n",
       "    }\n",
       "\n",
       "    .dataframe tbody tr th {\n",
       "        vertical-align: top;\n",
       "    }\n",
       "\n",
       "    .dataframe thead th {\n",
       "        text-align: right;\n",
       "    }\n",
       "</style>\n",
       "<table border=\"1\" class=\"dataframe\">\n",
       "  <thead>\n",
       "    <tr style=\"text-align: right;\">\n",
       "      <th></th>\n",
       "      <th>Player</th>\n",
       "      <th>Team</th>\n",
       "      <th>Rating</th>\n",
       "    </tr>\n",
       "  </thead>\n",
       "  <tbody>\n",
       "    <tr>\n",
       "      <th>0</th>\n",
       "      <td>Babar Azam</td>\n",
       "      <td>PAK</td>\n",
       "      <td>\\n\\n\\n                                898 v We...</td>\n",
       "    </tr>\n",
       "    <tr>\n",
       "      <th>1</th>\n",
       "      <td>Rassie van der Dussen</td>\n",
       "      <td>SA</td>\n",
       "      <td>\\n                                796 v Englan...</td>\n",
       "    </tr>\n",
       "    <tr>\n",
       "      <th>2</th>\n",
       "      <td>Fakhar Zaman</td>\n",
       "      <td>PAK</td>\n",
       "      <td>\\n                                784 v New Ze...</td>\n",
       "    </tr>\n",
       "    <tr>\n",
       "      <th>3</th>\n",
       "      <td>Imam-ul-Haq</td>\n",
       "      <td>PAK</td>\n",
       "      <td>\\n                                815 v West I...</td>\n",
       "    </tr>\n",
       "    <tr>\n",
       "      <th>4</th>\n",
       "      <td>Shubman Gill</td>\n",
       "      <td>IND</td>\n",
       "      <td>\\n                                738 v Austra...</td>\n",
       "    </tr>\n",
       "    <tr>\n",
       "      <th>5</th>\n",
       "      <td>Harry Tector</td>\n",
       "      <td>IRE</td>\n",
       "      <td>\\n                                726 v Nepal,...</td>\n",
       "    </tr>\n",
       "    <tr>\n",
       "      <th>6</th>\n",
       "      <td>David Warner</td>\n",
       "      <td>AUS</td>\n",
       "      <td>\\n                                880 v Pakist...</td>\n",
       "    </tr>\n",
       "    <tr>\n",
       "      <th>7</th>\n",
       "      <td>Virat Kohli</td>\n",
       "      <td>IND</td>\n",
       "      <td>\\n                                911 v Englan...</td>\n",
       "    </tr>\n",
       "    <tr>\n",
       "      <th>8</th>\n",
       "      <td>Quinton de Kock</td>\n",
       "      <td>SA</td>\n",
       "      <td>\\n                                813 v Sri La...</td>\n",
       "    </tr>\n",
       "    <tr>\n",
       "      <th>9</th>\n",
       "      <td>Rohit Sharma</td>\n",
       "      <td>IND</td>\n",
       "      <td>\\n                                885 v Sri La...</td>\n",
       "    </tr>\n",
       "  </tbody>\n",
       "</table>\n",
       "</div>"
      ],
      "text/plain": [
       "                  Player Team  \\\n",
       "0             Babar Azam  PAK   \n",
       "1  Rassie van der Dussen   SA   \n",
       "2           Fakhar Zaman  PAK   \n",
       "3            Imam-ul-Haq  PAK   \n",
       "4           Shubman Gill  IND   \n",
       "5           Harry Tector  IRE   \n",
       "6           David Warner  AUS   \n",
       "7            Virat Kohli  IND   \n",
       "8        Quinton de Kock   SA   \n",
       "9           Rohit Sharma  IND   \n",
       "\n",
       "                                              Rating  \n",
       "0  \\n\\n\\n                                898 v We...  \n",
       "1  \\n                                796 v Englan...  \n",
       "2  \\n                                784 v New Ze...  \n",
       "3  \\n                                815 v West I...  \n",
       "4  \\n                                738 v Austra...  \n",
       "5  \\n                                726 v Nepal,...  \n",
       "6  \\n                                880 v Pakist...  \n",
       "7  \\n                                911 v Englan...  \n",
       "8  \\n                                813 v Sri La...  \n",
       "9  \\n                                885 v Sri La...  "
      ]
     },
     "execution_count": 16,
     "metadata": {},
     "output_type": "execute_result"
    }
   ],
   "source": [
    "url = 'https://www.icc-cricket.com/rankings/mens/player-rankings/odi/batting'\n",
    "response = requests.get(url)\n",
    "\n",
    "soup = BeautifulSoup(response.content, 'html.parser')\n",
    "\n",
    "table = soup.find('table', {'class': 'table rankings-table'})\n",
    "\n",
    "players = []\n",
    "teams = []\n",
    "ratings = []\n",
    "\n",
    "rows = table.find_all('tr')[1:11]  \n",
    "\n",
    "for row in rows:\n",
    "    cols = row.find_all('td')\n",
    "    players.append(cols[1].text.strip())\n",
    "    teams.append(cols[2].text.strip())\n",
    "    ratings.append(cols[4].text)\n",
    "\n",
    "data = {'Player': players,'Team': teams,'Rating': ratings}\n",
    "\n",
    "df = pd.DataFrame(data)\n",
    "\n",
    "df\n"
   ]
  },
  {
   "cell_type": "code",
   "execution_count": 18,
   "id": "02b68d32",
   "metadata": {},
   "outputs": [
    {
     "data": {
      "text/html": [
       "<div>\n",
       "<style scoped>\n",
       "    .dataframe tbody tr th:only-of-type {\n",
       "        vertical-align: middle;\n",
       "    }\n",
       "\n",
       "    .dataframe tbody tr th {\n",
       "        vertical-align: top;\n",
       "    }\n",
       "\n",
       "    .dataframe thead th {\n",
       "        text-align: right;\n",
       "    }\n",
       "</style>\n",
       "<table border=\"1\" class=\"dataframe\">\n",
       "  <thead>\n",
       "    <tr style=\"text-align: right;\">\n",
       "      <th></th>\n",
       "      <th>Player</th>\n",
       "      <th>Team</th>\n",
       "      <th>Rating</th>\n",
       "    </tr>\n",
       "  </thead>\n",
       "  <tbody>\n",
       "    <tr>\n",
       "      <th>0</th>\n",
       "      <td>Josh Hazlewood</td>\n",
       "      <td>AUS</td>\n",
       "      <td>\\n\\n\\n                                733 v En...</td>\n",
       "    </tr>\n",
       "    <tr>\n",
       "      <th>1</th>\n",
       "      <td>Mohammed Siraj</td>\n",
       "      <td>IND</td>\n",
       "      <td>\\n                                736 v New Ze...</td>\n",
       "    </tr>\n",
       "    <tr>\n",
       "      <th>2</th>\n",
       "      <td>Mitchell Starc</td>\n",
       "      <td>AUS</td>\n",
       "      <td>\\n                                783 v New Ze...</td>\n",
       "    </tr>\n",
       "    <tr>\n",
       "      <th>3</th>\n",
       "      <td>Matt Henry</td>\n",
       "      <td>NZ</td>\n",
       "      <td>\\n                                691 v Bangla...</td>\n",
       "    </tr>\n",
       "    <tr>\n",
       "      <th>4</th>\n",
       "      <td>Trent Boult</td>\n",
       "      <td>NZ</td>\n",
       "      <td>\\n                                775 v Austra...</td>\n",
       "    </tr>\n",
       "    <tr>\n",
       "      <th>5</th>\n",
       "      <td>Adam Zampa</td>\n",
       "      <td>AUS</td>\n",
       "      <td>\\n                                655 v Englan...</td>\n",
       "    </tr>\n",
       "    <tr>\n",
       "      <th>6</th>\n",
       "      <td>Rashid Khan</td>\n",
       "      <td>AFG</td>\n",
       "      <td>\\n                                806 v Pakist...</td>\n",
       "    </tr>\n",
       "    <tr>\n",
       "      <th>7</th>\n",
       "      <td>Shaheen Afridi</td>\n",
       "      <td>PAK</td>\n",
       "      <td>\\n                                688 v West I...</td>\n",
       "    </tr>\n",
       "    <tr>\n",
       "      <th>8</th>\n",
       "      <td>Mujeeb Ur Rahman</td>\n",
       "      <td>AFG</td>\n",
       "      <td>\\n                                712 v Irelan...</td>\n",
       "    </tr>\n",
       "    <tr>\n",
       "      <th>9</th>\n",
       "      <td>Mohammad Nabi</td>\n",
       "      <td>AFG</td>\n",
       "      <td>\\n                                657 v Zimbab...</td>\n",
       "    </tr>\n",
       "  </tbody>\n",
       "</table>\n",
       "</div>"
      ],
      "text/plain": [
       "             Player Team                                             Rating\n",
       "0    Josh Hazlewood  AUS  \\n\\n\\n                                733 v En...\n",
       "1    Mohammed Siraj  IND  \\n                                736 v New Ze...\n",
       "2    Mitchell Starc  AUS  \\n                                783 v New Ze...\n",
       "3        Matt Henry   NZ  \\n                                691 v Bangla...\n",
       "4       Trent Boult   NZ  \\n                                775 v Austra...\n",
       "5        Adam Zampa  AUS  \\n                                655 v Englan...\n",
       "6       Rashid Khan  AFG  \\n                                806 v Pakist...\n",
       "7    Shaheen Afridi  PAK  \\n                                688 v West I...\n",
       "8  Mujeeb Ur Rahman  AFG  \\n                                712 v Irelan...\n",
       "9     Mohammad Nabi  AFG  \\n                                657 v Zimbab..."
      ]
     },
     "execution_count": 18,
     "metadata": {},
     "output_type": "execute_result"
    }
   ],
   "source": [
    "url = 'https://www.icc-cricket.com/rankings/mens/player-rankings/odi/bowling'\n",
    "response = requests.get(url)\n",
    "\n",
    "soup = BeautifulSoup(response.content, 'html.parser')\n",
    "\n",
    "table = soup.find('table', {'class': 'table rankings-table'})\n",
    "\n",
    "players = []\n",
    "teams = []\n",
    "ratings = []\n",
    "\n",
    "rows = table.find_all('tr')[1:11] \n",
    "\n",
    "for row in rows:\n",
    "    cols = row.find_all('td')\n",
    "    players.append(cols[1].text.strip())\n",
    "    teams.append(cols[2].text.strip())\n",
    "    ratings.append(cols[4].text)\n",
    "\n",
    "\n",
    "data = {'Player': players,'Team': teams,'Rating': ratings}\n",
    "\n",
    "df = pd.DataFrame(data)\n",
    "df\n"
   ]
  },
  {
   "cell_type": "markdown",
   "id": "9c580b2c",
   "metadata": {},
   "source": [
    "# Write a python program to scrape cricket rankings from icc-cricket.com. You have to scrape and make data frame-"
   ]
  },
  {
   "cell_type": "markdown",
   "id": "bb332487",
   "metadata": {},
   "source": [
    "a) Top 10 ODI teams in women’s cricket along with the records for matches, points and rating.\n",
    "b) Top 10 women’s ODI Batting players along with the records of their team and rating.\n",
    "c) Top 10 women’s ODI all-rounder along with the records of their team and rating."
   ]
  },
  {
   "cell_type": "code",
   "execution_count": 19,
   "id": "e685882e",
   "metadata": {},
   "outputs": [
    {
     "data": {
      "text/html": [
       "<div>\n",
       "<style scoped>\n",
       "    .dataframe tbody tr th:only-of-type {\n",
       "        vertical-align: middle;\n",
       "    }\n",
       "\n",
       "    .dataframe tbody tr th {\n",
       "        vertical-align: top;\n",
       "    }\n",
       "\n",
       "    .dataframe thead th {\n",
       "        text-align: right;\n",
       "    }\n",
       "</style>\n",
       "<table border=\"1\" class=\"dataframe\">\n",
       "  <thead>\n",
       "    <tr style=\"text-align: right;\">\n",
       "      <th></th>\n",
       "      <th>Team</th>\n",
       "      <th>Matches</th>\n",
       "      <th>Points</th>\n",
       "      <th>Rating</th>\n",
       "    </tr>\n",
       "  </thead>\n",
       "  <tbody>\n",
       "    <tr>\n",
       "      <th>0</th>\n",
       "      <td>Australia\\nAUS</td>\n",
       "      <td>21</td>\n",
       "      <td>3,603</td>\n",
       "      <td>\\n                            172\\n           ...</td>\n",
       "    </tr>\n",
       "    <tr>\n",
       "      <th>1</th>\n",
       "      <td>England\\nENG</td>\n",
       "      <td>28</td>\n",
       "      <td>3,342</td>\n",
       "      <td>119</td>\n",
       "    </tr>\n",
       "    <tr>\n",
       "      <th>2</th>\n",
       "      <td>South Africa\\nSA</td>\n",
       "      <td>26</td>\n",
       "      <td>3,098</td>\n",
       "      <td>119</td>\n",
       "    </tr>\n",
       "    <tr>\n",
       "      <th>3</th>\n",
       "      <td>India\\nIND</td>\n",
       "      <td>27</td>\n",
       "      <td>2,820</td>\n",
       "      <td>104</td>\n",
       "    </tr>\n",
       "    <tr>\n",
       "      <th>4</th>\n",
       "      <td>New Zealand\\nNZ</td>\n",
       "      <td>28</td>\n",
       "      <td>2,688</td>\n",
       "      <td>96</td>\n",
       "    </tr>\n",
       "    <tr>\n",
       "      <th>5</th>\n",
       "      <td>West Indies\\nWI</td>\n",
       "      <td>29</td>\n",
       "      <td>2,743</td>\n",
       "      <td>95</td>\n",
       "    </tr>\n",
       "    <tr>\n",
       "      <th>6</th>\n",
       "      <td>Bangladesh\\nBAN</td>\n",
       "      <td>14</td>\n",
       "      <td>977</td>\n",
       "      <td>70</td>\n",
       "    </tr>\n",
       "    <tr>\n",
       "      <th>7</th>\n",
       "      <td>Sri Lanka\\nSL</td>\n",
       "      <td>12</td>\n",
       "      <td>820</td>\n",
       "      <td>68</td>\n",
       "    </tr>\n",
       "    <tr>\n",
       "      <th>8</th>\n",
       "      <td>Thailand\\nTHA</td>\n",
       "      <td>12</td>\n",
       "      <td>806</td>\n",
       "      <td>67</td>\n",
       "    </tr>\n",
       "    <tr>\n",
       "      <th>9</th>\n",
       "      <td>Pakistan\\nPAK</td>\n",
       "      <td>27</td>\n",
       "      <td>1,678</td>\n",
       "      <td>62</td>\n",
       "    </tr>\n",
       "  </tbody>\n",
       "</table>\n",
       "</div>"
      ],
      "text/plain": [
       "               Team Matches Points  \\\n",
       "0    Australia\\nAUS      21  3,603   \n",
       "1      England\\nENG      28  3,342   \n",
       "2  South Africa\\nSA      26  3,098   \n",
       "3        India\\nIND      27  2,820   \n",
       "4   New Zealand\\nNZ      28  2,688   \n",
       "5   West Indies\\nWI      29  2,743   \n",
       "6   Bangladesh\\nBAN      14    977   \n",
       "7     Sri Lanka\\nSL      12    820   \n",
       "8     Thailand\\nTHA      12    806   \n",
       "9     Pakistan\\nPAK      27  1,678   \n",
       "\n",
       "                                              Rating  \n",
       "0  \\n                            172\\n           ...  \n",
       "1                                                119  \n",
       "2                                                119  \n",
       "3                                                104  \n",
       "4                                                 96  \n",
       "5                                                 95  \n",
       "6                                                 70  \n",
       "7                                                 68  \n",
       "8                                                 67  \n",
       "9                                                 62  "
      ]
     },
     "execution_count": 19,
     "metadata": {},
     "output_type": "execute_result"
    }
   ],
   "source": [
    "url = 'https://www.icc-cricket.com/rankings/womens/team-rankings/odi'\n",
    "response = requests.get(url)\n",
    "\n",
    "soup = BeautifulSoup(response.content, 'html.parser')\n",
    "\n",
    "table = soup.find('table', {'class': 'table'})\n",
    "\n",
    "\n",
    "teams = []\n",
    "matches = []\n",
    "points = []\n",
    "ratings = []\n",
    "\n",
    "rows = table.find_all('tr')[1:11]  \n",
    "\n",
    "for row in rows:\n",
    "    cols = row.find_all('td')\n",
    "    teams.append(cols[1].text.strip())\n",
    "    matches.append(cols[2].text)\n",
    "    points.append(cols[3].text)\n",
    "    ratings.append(cols[4].text)\n",
    "data = {'Team': teams,'Matches': matches,'Points': points,'Rating': ratings}\n",
    "\n",
    "df = pd.DataFrame(data)\n",
    "\n",
    "df\n"
   ]
  },
  {
   "cell_type": "code",
   "execution_count": 20,
   "id": "68b93b05",
   "metadata": {},
   "outputs": [
    {
     "data": {
      "text/html": [
       "<div>\n",
       "<style scoped>\n",
       "    .dataframe tbody tr th:only-of-type {\n",
       "        vertical-align: middle;\n",
       "    }\n",
       "\n",
       "    .dataframe tbody tr th {\n",
       "        vertical-align: top;\n",
       "    }\n",
       "\n",
       "    .dataframe thead th {\n",
       "        text-align: right;\n",
       "    }\n",
       "</style>\n",
       "<table border=\"1\" class=\"dataframe\">\n",
       "  <thead>\n",
       "    <tr style=\"text-align: right;\">\n",
       "      <th></th>\n",
       "      <th>Player</th>\n",
       "      <th>Team</th>\n",
       "      <th>Rating</th>\n",
       "    </tr>\n",
       "  </thead>\n",
       "  <tbody>\n",
       "    <tr>\n",
       "      <th>0</th>\n",
       "      <td>Chamari Athapaththu</td>\n",
       "      <td>SL</td>\n",
       "      <td>\\n\\n\\n                                758 v Ne...</td>\n",
       "    </tr>\n",
       "    <tr>\n",
       "      <th>1</th>\n",
       "      <td>Beth Mooney</td>\n",
       "      <td>AUS</td>\n",
       "      <td>\\n                                754 v Pakist...</td>\n",
       "    </tr>\n",
       "    <tr>\n",
       "      <th>2</th>\n",
       "      <td>Laura Wolvaardt</td>\n",
       "      <td>SA</td>\n",
       "      <td>\\n                                741 v Austra...</td>\n",
       "    </tr>\n",
       "    <tr>\n",
       "      <th>3</th>\n",
       "      <td>Natalie Sciver</td>\n",
       "      <td>ENG</td>\n",
       "      <td>\\n                                755 v South ...</td>\n",
       "    </tr>\n",
       "    <tr>\n",
       "      <th>4</th>\n",
       "      <td>Meg Lanning</td>\n",
       "      <td>AUS</td>\n",
       "      <td>\\n                                834 v New Ze...</td>\n",
       "    </tr>\n",
       "    <tr>\n",
       "      <th>5</th>\n",
       "      <td>Harmanpreet Kaur</td>\n",
       "      <td>IND</td>\n",
       "      <td>\\n                                731 v Englan...</td>\n",
       "    </tr>\n",
       "    <tr>\n",
       "      <th>6</th>\n",
       "      <td>Smriti Mandhana</td>\n",
       "      <td>IND</td>\n",
       "      <td>\\n                                797 v Englan...</td>\n",
       "    </tr>\n",
       "    <tr>\n",
       "      <th>7</th>\n",
       "      <td>Ellyse Perry</td>\n",
       "      <td>AUS</td>\n",
       "      <td>\\n                                766 v West I...</td>\n",
       "    </tr>\n",
       "    <tr>\n",
       "      <th>8</th>\n",
       "      <td>Stafanie Taylor</td>\n",
       "      <td>WI</td>\n",
       "      <td>\\n                                766 v Pakist...</td>\n",
       "    </tr>\n",
       "    <tr>\n",
       "      <th>9</th>\n",
       "      <td>Tammy Beaumont</td>\n",
       "      <td>ENG</td>\n",
       "      <td>\\n                                791 v India,...</td>\n",
       "    </tr>\n",
       "  </tbody>\n",
       "</table>\n",
       "</div>"
      ],
      "text/plain": [
       "                Player Team                                             Rating\n",
       "0  Chamari Athapaththu   SL  \\n\\n\\n                                758 v Ne...\n",
       "1          Beth Mooney  AUS  \\n                                754 v Pakist...\n",
       "2      Laura Wolvaardt   SA  \\n                                741 v Austra...\n",
       "3       Natalie Sciver  ENG  \\n                                755 v South ...\n",
       "4          Meg Lanning  AUS  \\n                                834 v New Ze...\n",
       "5     Harmanpreet Kaur  IND  \\n                                731 v Englan...\n",
       "6      Smriti Mandhana  IND  \\n                                797 v Englan...\n",
       "7         Ellyse Perry  AUS  \\n                                766 v West I...\n",
       "8      Stafanie Taylor   WI  \\n                                766 v Pakist...\n",
       "9       Tammy Beaumont  ENG  \\n                                791 v India,..."
      ]
     },
     "execution_count": 20,
     "metadata": {},
     "output_type": "execute_result"
    }
   ],
   "source": [
    "url = 'https://www.icc-cricket.com/rankings/womens/player-rankings/odi/batting'\n",
    "response = requests.get(url)\n",
    "\n",
    "soup = BeautifulSoup(response.content, 'html.parser')\n",
    "\n",
    "table = soup.find('table', {'class': 'table rankings-table'})\n",
    "\n",
    "players = []\n",
    "teams = []\n",
    "ratings = []\n",
    "\n",
    "rows = table.find_all('tr')[1:11]  \n",
    "\n",
    "for row in rows:\n",
    "    cols = row.find_all('td')\n",
    "    players.append(cols[1].text.strip())\n",
    "    teams.append(cols[2].text.strip())\n",
    "    ratings.append(cols[4].text)\n",
    "\n",
    "data = {'Player': players,'Team': teams,'Rating': ratings}\n",
    "\n",
    "df = pd.DataFrame(data)\n",
    "\n",
    "df\n"
   ]
  },
  {
   "cell_type": "code",
   "execution_count": 21,
   "id": "00d823d6",
   "metadata": {},
   "outputs": [
    {
     "data": {
      "text/html": [
       "<div>\n",
       "<style scoped>\n",
       "    .dataframe tbody tr th:only-of-type {\n",
       "        vertical-align: middle;\n",
       "    }\n",
       "\n",
       "    .dataframe tbody tr th {\n",
       "        vertical-align: top;\n",
       "    }\n",
       "\n",
       "    .dataframe thead th {\n",
       "        text-align: right;\n",
       "    }\n",
       "</style>\n",
       "<table border=\"1\" class=\"dataframe\">\n",
       "  <thead>\n",
       "    <tr style=\"text-align: right;\">\n",
       "      <th></th>\n",
       "      <th>Player</th>\n",
       "      <th>Team</th>\n",
       "      <th>Rating</th>\n",
       "    </tr>\n",
       "  </thead>\n",
       "  <tbody>\n",
       "    <tr>\n",
       "      <th>0</th>\n",
       "      <td>Hayley Matthews</td>\n",
       "      <td>WI</td>\n",
       "      <td>\\n\\n\\n                                392 v Ir...</td>\n",
       "    </tr>\n",
       "    <tr>\n",
       "      <th>1</th>\n",
       "      <td>Natalie Sciver</td>\n",
       "      <td>ENG</td>\n",
       "      <td>\\n                                395 v South ...</td>\n",
       "    </tr>\n",
       "    <tr>\n",
       "      <th>2</th>\n",
       "      <td>Ellyse Perry</td>\n",
       "      <td>AUS</td>\n",
       "      <td>\\n                                548 v West I...</td>\n",
       "    </tr>\n",
       "    <tr>\n",
       "      <th>3</th>\n",
       "      <td>Marizanne Kapp</td>\n",
       "      <td>SA</td>\n",
       "      <td>\\n                                419 v West I...</td>\n",
       "    </tr>\n",
       "    <tr>\n",
       "      <th>4</th>\n",
       "      <td>Amelia Kerr</td>\n",
       "      <td>NZ</td>\n",
       "      <td>\\n                                356 v West I...</td>\n",
       "    </tr>\n",
       "    <tr>\n",
       "      <th>5</th>\n",
       "      <td>Deepti Sharma</td>\n",
       "      <td>IND</td>\n",
       "      <td>\\n                                397 v South ...</td>\n",
       "    </tr>\n",
       "    <tr>\n",
       "      <th>6</th>\n",
       "      <td>Ashleigh Gardner</td>\n",
       "      <td>AUS</td>\n",
       "      <td>\\n                                292 v Pakist...</td>\n",
       "    </tr>\n",
       "    <tr>\n",
       "      <th>7</th>\n",
       "      <td>Jess Jonassen</td>\n",
       "      <td>AUS</td>\n",
       "      <td>\\n                                308 v West I...</td>\n",
       "    </tr>\n",
       "    <tr>\n",
       "      <th>8</th>\n",
       "      <td>Sophie Devine</td>\n",
       "      <td>NZ</td>\n",
       "      <td>\\n                                305 v Austra...</td>\n",
       "    </tr>\n",
       "    <tr>\n",
       "      <th>9</th>\n",
       "      <td>Nida Dar</td>\n",
       "      <td>PAK</td>\n",
       "      <td>\\n                                232 v Austra...</td>\n",
       "    </tr>\n",
       "  </tbody>\n",
       "</table>\n",
       "</div>"
      ],
      "text/plain": [
       "             Player Team                                             Rating\n",
       "0   Hayley Matthews   WI  \\n\\n\\n                                392 v Ir...\n",
       "1    Natalie Sciver  ENG  \\n                                395 v South ...\n",
       "2      Ellyse Perry  AUS  \\n                                548 v West I...\n",
       "3    Marizanne Kapp   SA  \\n                                419 v West I...\n",
       "4       Amelia Kerr   NZ  \\n                                356 v West I...\n",
       "5     Deepti Sharma  IND  \\n                                397 v South ...\n",
       "6  Ashleigh Gardner  AUS  \\n                                292 v Pakist...\n",
       "7     Jess Jonassen  AUS  \\n                                308 v West I...\n",
       "8     Sophie Devine   NZ  \\n                                305 v Austra...\n",
       "9          Nida Dar  PAK  \\n                                232 v Austra..."
      ]
     },
     "execution_count": 21,
     "metadata": {},
     "output_type": "execute_result"
    }
   ],
   "source": [
    "url = 'https://www.icc-cricket.com/rankings/womens/player-rankings/odi/all-rounder'\n",
    "response = requests.get(url)\n",
    "\n",
    "soup = BeautifulSoup(response.content, 'html.parser')\n",
    "\n",
    "table = soup.find('table', {'class': 'table rankings-table'})\n",
    "\n",
    "players = []\n",
    "teams = []\n",
    "ratings = []\n",
    "\n",
    "rows = table.find_all('tr')[1:11]  \n",
    "\n",
    "for row in rows:\n",
    "    cols = row.find_all('td')\n",
    "    players.append(cols[1].text.strip())\n",
    "    teams.append(cols[2].text.strip())\n",
    "    ratings.append(cols[4].text)\n",
    "\n",
    "data = {'Player': players,'Team': teams, 'Rating': ratings}\n",
    "\n",
    "df = pd.DataFrame(data)\n",
    "\n",
    "df\n"
   ]
  },
  {
   "cell_type": "markdown",
   "id": "202f10e0",
   "metadata": {},
   "source": [
    "# Write a python program to scrape mentioned news details from https://www.cnbc.com/world/?region=world and make data frame-"
   ]
  },
  {
   "cell_type": "markdown",
   "id": "bb033fd7",
   "metadata": {},
   "source": [
    "i) Headline\n",
    "ii) Time\n",
    "iii) News Link"
   ]
  },
  {
   "cell_type": "code",
   "execution_count": 9,
   "id": "b7960b4b",
   "metadata": {},
   "outputs": [
    {
     "data": {
      "text/plain": [
       "<Response [200]>"
      ]
     },
     "execution_count": 9,
     "metadata": {},
     "output_type": "execute_result"
    }
   ],
   "source": [
    "page7 = requests.get(\"https://www.cnbc.com/world/?region=world\")\n",
    "\n",
    "page7"
   ]
  },
  {
   "cell_type": "code",
   "execution_count": 10,
   "id": "70844f97",
   "metadata": {},
   "outputs": [
    {
     "data": {
      "text/plain": [
       "['Cybersecurity experts have become targets for board seats',\n",
       " \"Getting rich isn't the American Dream anymore, says new survey\",\n",
       " 'You could win nearly $1 billion between the Mega Millions and Powerball jackpots',\n",
       " ' Buffer ETFs are growing with new funds from iShares, even as stocks rally',\n",
       " 'Weight loss treatment options are about to explode — The names investors need to know',\n",
       " \"Jim Cramer's guide to investing: Prepare for corrections, they are inevitable \",\n",
       " \"Do you always need to tip 20%? Here's how much an etiquette expert says to leave\",\n",
       " \"Here's what the latest OPEC+ oil cuts mean for 3 big U.S. energy holdings\",\n",
       " 'A record number of people are expected to drive this July 4. How to save on gas',\n",
       " \"Jim Cramer's guide to investing: Don't forget about bonds\",\n",
       " \"Analysts are adjusting their price targets for Constellation — why we're on board\",\n",
       " 'Most patriotic stocks: These names can benefit the most from a strong economy',\n",
       " 'Dodge Durango, Jeep SUVs push Stellantis second-quarter sales up 6.4%',\n",
       " 'This is where to find hot yields in July, according to UBS',\n",
       " \"Here's another reason that the market could post a huge rally in the second half\",\n",
       " 'Stocks making the biggest moves midday: Tesla, Rivian, XPeng and more',\n",
       " '23-year-old earns $48,000 in NYC as a freelance music producer',\n",
       " 'Goldman adds a utility stock to its list of elite picks for clients',\n",
       " 'Risk factors suggest borrowers could struggle when student loan payments resume',\n",
       " 'Tesla shares rise nearly 7% after delivery, production numbers beat expectations',\n",
       " 'Take-Two, this drug name are among the most overbought stocks on Wall Street. Here are the others',\n",
       " 'How to send a successful cold email, according to hiring experts',\n",
       " \"Barbara Corcoran on the 'Shark Tank' deal that made her $468 million\",\n",
       " 'People almost always get this simple math problem wrong: Can you solve it?\\xa0',\n",
       " \"Bluesky experiences 'record-high traffic' after Elon Musk's Twitter rate limits\",\n",
       " \"Scotland's iconic Orkney islands considering quitting Britain to join Norway\",\n",
       " 'Rivian shares surge as second-quarter EV deliveries top estimates',\n",
       " \"Americans living in Europe on what they've learned about taking PTO abroad\",\n",
       " \"Help! A former co-worker asked me for a referral I don't want to give\",\n",
       " 'Katie Stockton says S&P 500 can go to new high thanks to megacap leaders']"
      ]
     },
     "execution_count": 10,
     "metadata": {},
     "output_type": "execute_result"
    }
   ],
   "source": [
    "soup = BeautifulSoup(page7.content)\n",
    "\n",
    "Headline=[]\n",
    "for i in soup.find_all('a',class_=\"LatestNews-headline\"):\n",
    "    Headline.append(i.text)\n",
    "Headline"
   ]
  },
  {
   "cell_type": "code",
   "execution_count": 11,
   "id": "f7dba1cc",
   "metadata": {},
   "outputs": [
    {
     "data": {
      "text/plain": [
       "['2 Hours Ago',\n",
       " '2 Hours Ago',\n",
       " '3 Hours Ago',\n",
       " '3 Hours Ago',\n",
       " '3 Hours Ago',\n",
       " '4 Hours Ago',\n",
       " '4 Hours Ago',\n",
       " '4 Hours Ago',\n",
       " '5 Hours Ago',\n",
       " '5 Hours Ago',\n",
       " '5 Hours Ago',\n",
       " '5 Hours Ago',\n",
       " '5 Hours Ago',\n",
       " '6 Hours Ago',\n",
       " '6 Hours Ago',\n",
       " '6 Hours Ago',\n",
       " '7 Hours Ago',\n",
       " '7 Hours Ago',\n",
       " '7 Hours Ago',\n",
       " '7 Hours Ago',\n",
       " '7 Hours Ago',\n",
       " '7 Hours Ago',\n",
       " '7 Hours Ago',\n",
       " '7 Hours Ago',\n",
       " '7 Hours Ago',\n",
       " '7 Hours Ago',\n",
       " '7 Hours Ago',\n",
       " '8 Hours Ago',\n",
       " '8 Hours Ago',\n",
       " '8 Hours Ago']"
      ]
     },
     "execution_count": 11,
     "metadata": {},
     "output_type": "execute_result"
    }
   ],
   "source": [
    "Times = []\n",
    "for i in soup.find_all('time', class_=\"LatestNews-timestamp\"):\n",
    "    Times.append(i.text)\n",
    "Times"
   ]
  },
  {
   "cell_type": "code",
   "execution_count": 12,
   "id": "1de3d0ae",
   "metadata": {},
   "outputs": [
    {
     "data": {
      "text/plain": [
       "['https://www.cnbc.com/2023/07/03/cybersecurity-experts-have-become-targets-for-board-seats.html',\n",
       " 'https://www.cnbc.com/2023/07/03/belonging-happiness-comfort-are-new-american-dream-godaddy-survey.html',\n",
       " 'https://www.cnbc.com/2023/07/03/mega-millions-powerball-jackpots-nearly-1-billion-dollars-is-up-for-grabs.html',\n",
       " 'https://www.cnbc.com/2023/07/03/-buffer-etfs-are-growing-with-new-funds-from-ishares-even-as-stocks-rally.html',\n",
       " 'https://www.cnbc.com/2023/07/03/weight-loss-treatments-are-about-to-explode-the-names-investors-need-to-know.html',\n",
       " 'https://www.cnbc.com/2023/07/03/jim-cramers-guide-to-investing-prepare-for-corrections.html',\n",
       " 'https://www.cnbc.com/2023/07/03/etiquette-expert-how-much-to-tip-at-restaurants-hotels-coffee-shops.html',\n",
       " 'https://www.cnbc.com/2023/07/03/heres-what-the-latest-opec-cuts-mean-for-3-big-us-energy-holdings.html',\n",
       " 'https://www.cnbc.com/2023/07/03/heres-how-travelers-can-save-on-gas-this-july-4-holiday.html',\n",
       " 'https://www.cnbc.com/2023/07/03/jim-cramers-guide-to-investing-dont-forget-about-bonds.html',\n",
       " 'https://www.cnbc.com/2023/07/03/analysts-are-adjusting-price-targets-for-constellation-were-behind-it.html',\n",
       " 'https://www.cnbc.com/2023/07/03/most-patriotic-stocks-these-names-can-benefit-the-most-from-a-strong-us-economy.html',\n",
       " 'https://www.cnbc.com/2023/07/03/stellantis-new-vehicle-sales-second-quarter.html',\n",
       " 'https://www.cnbc.com/2023/07/03/this-is-where-to-find-hot-yields-in-july-according-to-ubs.html',\n",
       " 'https://www.cnbc.com/2023/07/03/heres-another-reason-that-the-market-could-post-a-huge-rally-in-the-second-half.html',\n",
       " 'https://www.cnbc.com/2023/07/03/stocks-making-the-biggest-moves-midday-tesla-rivian-xpeng-and-more.html',\n",
       " 'https://www.cnbc.com/2023/07/03/23-year-old-lives-on-48000-in-nyc-as-a-freelance-music-producer.html',\n",
       " 'https://www.cnbc.com/2023/07/03/goldman-adds-a-utility-stock-to-its-list-of-elite-picks-for-clients.html',\n",
       " 'https://www.cnbc.com/2023/07/03/these-risk-factors-suggest-borrowers-could-struggle-when-payments-resume.html',\n",
       " 'https://www.cnbc.com/2023/07/03/tesla-shares-rise-over-7percent-after-deliveries-report-production-numbers.html',\n",
       " 'https://www.cnbc.com/2023/07/03/take-two-this-drug-name-are-among-the-most-overbought-stocks-on-wall-street-here-are-the-others.html',\n",
       " 'https://www.cnbc.com/2023/07/03/how-to-ace-a-cold-email-according-to-hiring-experts.html',\n",
       " 'https://www.cnbc.com/2023/07/03/barbara-corcoran-on-the-shark-tank-deal-that-made-her-468-million.html',\n",
       " 'https://www.cnbc.com/2023/07/03/people-almost-always-get-this-simple-math-problem-wrong.html',\n",
       " 'https://www.cnbc.com/2023/07/03/users-flock-to-twitter-competitor-bluesky-after-elon-musk-imposes-rate-limits.html',\n",
       " 'https://www.cnbc.com/2023/07/03/scotlands-orkney-islands-consider-quitting-the-uk-to-join-norway.html',\n",
       " 'https://www.cnbc.com/2023/07/03/rivian-shares-surge-as-second-quarter-ev-deliveries-top-estimates.html',\n",
       " 'https://www.cnbc.com/2023/07/03/americans-in-europe-share-what-theyve-learned-about-taking-pto-abroad.html',\n",
       " 'https://www.cnbc.com/2023/07/03/help-a-former-co-worker-asked-me-for-a-referral-i-dont-want-to-give.html',\n",
       " 'https://www.cnbc.com/2023/07/03/katie-stockton-says-sp-500-can-go-to-new-high-thanks-to-megacaps-.html']"
      ]
     },
     "execution_count": 12,
     "metadata": {},
     "output_type": "execute_result"
    }
   ],
   "source": [
    "News_Link = []\n",
    "for i in soup.find_all('a',class_=\"LatestNews-headline\"):\n",
    "    News_Link.append(i.get('href'))  \n",
    "News_Link"
   ]
  },
  {
   "cell_type": "markdown",
   "id": "6eb43c74",
   "metadata": {},
   "source": [
    "# Write a python program to scrape the details of most downloaded articles from AI in last 90 days.https://www.journals.elsevier.com/artificial-intelligence/most-downloaded-articles Scrape below mentioned details and make data frame-"
   ]
  },
  {
   "cell_type": "markdown",
   "id": "bc86e8dd",
   "metadata": {},
   "source": [
    "i) Paper Title\n",
    "ii) Authors\n",
    "iii) Published Date\n",
    "iv) Paper URL"
   ]
  },
  {
   "cell_type": "code",
   "execution_count": 17,
   "id": "44188b59",
   "metadata": {},
   "outputs": [
    {
     "data": {
      "text/plain": [
       "<Response [200]>"
      ]
     },
     "execution_count": 17,
     "metadata": {},
     "output_type": "execute_result"
    }
   ],
   "source": [
    "page8 = requests.get(\"https://www.journals.elsevier.com/artificial-intelligence/most-downloaded-articles\")\n",
    "page8"
   ]
  },
  {
   "cell_type": "code",
   "execution_count": 18,
   "id": "83b5ef00",
   "metadata": {},
   "outputs": [
    {
     "data": {
      "text/plain": [
       "['Reward is enough',\n",
       " 'Explanation in artificial intelligence: Insights from the social sciences',\n",
       " 'Creativity and artificial intelligence',\n",
       " 'Conflict-based search for optimal multi-agent pathfinding',\n",
       " 'Knowledge graphs as tools for explainable machine learning: A survey',\n",
       " 'Law and logic: A review from an argumentation perspective',\n",
       " 'Between MDPs and semi-MDPs: A framework for temporal abstraction in reinforcement learning',\n",
       " 'Explaining individual predictions when features are dependent: More accurate approximations to Shapley values',\n",
       " 'Multiple object tracking: A literature review',\n",
       " 'A survey of inverse reinforcement learning: Challenges, methods and progress',\n",
       " 'Evaluating XAI: A comparison of rule-based and example-based explanations',\n",
       " 'Explainable AI tools for legal reasoning about cases: A study on the European Court of Human Rights',\n",
       " 'Hard choices in artificial intelligence',\n",
       " 'Assessing the communication gap between AI models and healthcare professionals: Explainability, utility and trust in AI-driven clinical decision-making',\n",
       " 'Explaining black-box classifiers using post-hoc explanations-by-example: The effect of explanations and error-rates in XAI user studies',\n",
       " 'The Hanabi challenge: A new frontier for AI research',\n",
       " 'Wrappers for feature subset selection',\n",
       " 'Artificial cognition for social human–robot interaction: An implementation',\n",
       " 'A review of possible effects of cognitive biases on interpretation of rule-based machine learning models',\n",
       " 'The multifaceted impact of Ada Lovelace in the digital age',\n",
       " 'Robot ethics: Mapping the issues for a mechanized world',\n",
       " 'Reward (Mis)design for autonomous driving',\n",
       " 'Planning and acting in partially observable stochastic domains',\n",
       " 'What do we want from Explainable Artificial Intelligence (XAI)? – A stakeholder perspective on XAI and a conceptual model guiding interdisciplinary XAI research']"
      ]
     },
     "execution_count": 18,
     "metadata": {},
     "output_type": "execute_result"
    }
   ],
   "source": [
    "soup = BeautifulSoup(page8.content)\n",
    "\n",
    "Paper_Title =[]\n",
    "for i in soup.find_all('h2',class_=\"sc-1qrq3sd-1 gRGSUS sc-1nmom32-0 sc-1nmom32-1 btcbYu goSKRg\"):\n",
    "    Paper_Title.append(i.text)\n",
    "Paper_Title"
   ]
  },
  {
   "cell_type": "code",
   "execution_count": 19,
   "id": "f22c187e",
   "metadata": {},
   "outputs": [
    {
     "data": {
      "text/plain": [
       "['David Silver, Satinder Singh, Doina Precup, Richard S. Sutton ',\n",
       " 'Tim Miller ',\n",
       " 'Margaret A. Boden ',\n",
       " 'Guni Sharon, Roni Stern, Ariel Felner, Nathan R. Sturtevant ',\n",
       " 'Ilaria Tiddi, Stefan Schlobach ',\n",
       " 'Henry Prakken, Giovanni Sartor ',\n",
       " 'Richard S. Sutton, Doina Precup, Satinder Singh ',\n",
       " 'Kjersti Aas, Martin Jullum, Anders Løland ',\n",
       " 'Wenhan Luo, Junliang Xing and 4 more',\n",
       " 'Saurabh Arora, Prashant Doshi ',\n",
       " 'Jasper van der Waa, Elisabeth Nieuwburg, Anita Cremers, Mark Neerincx ',\n",
       " 'Joe Collenette, Katie Atkinson, Trevor Bench-Capon ',\n",
       " 'Roel Dobbe, Thomas Krendl Gilbert, Yonatan Mintz ',\n",
       " 'Oskar Wysocki, Jessica Katharine Davies and 5 more',\n",
       " 'Eoin M. Kenny, Courtney Ford, Molly Quinn, Mark T. Keane ',\n",
       " 'Nolan Bard, Jakob N. Foerster and 13 more',\n",
       " 'Ron Kohavi, George H. John ',\n",
       " 'Séverin Lemaignan, Mathieu Warnier and 3 more',\n",
       " 'Tomáš Kliegr, Štěpán Bahník, Johannes Fürnkranz ',\n",
       " 'Luigia Carlucci Aiello ',\n",
       " 'Patrick Lin, Keith Abney, George Bekey ',\n",
       " 'W. Bradley Knox, Alessandro Allievi and 3 more',\n",
       " 'Leslie Pack Kaelbling, Michael L. Littman, Anthony R. Cassandra ',\n",
       " 'Markus Langer, Daniel Oster and 6 more']"
      ]
     },
     "execution_count": 19,
     "metadata": {},
     "output_type": "execute_result"
    }
   ],
   "source": [
    "Authors=[]\n",
    "for i in soup.find_all('span',class_=\"sc-1w3fpd7-0 dnCnAO\"):\n",
    "    Authors.append(i.text)\n",
    "Authors"
   ]
  },
  {
   "cell_type": "code",
   "execution_count": 20,
   "id": "2769b80a",
   "metadata": {},
   "outputs": [
    {
     "data": {
      "text/plain": [
       "['October 2021',\n",
       " 'February 2019',\n",
       " 'August 1998',\n",
       " 'February 2015',\n",
       " 'January 2022',\n",
       " 'October 2015',\n",
       " 'August 1999',\n",
       " 'September 2021',\n",
       " 'April 2021',\n",
       " 'August 2021',\n",
       " 'February 2021',\n",
       " 'April 2023',\n",
       " 'November 2021',\n",
       " 'March 2023',\n",
       " 'May 2021',\n",
       " 'March 2020',\n",
       " 'December 1997',\n",
       " 'June 2017',\n",
       " 'June 2021',\n",
       " 'June 2016',\n",
       " 'April 2011',\n",
       " 'March 2023',\n",
       " 'May 1998',\n",
       " 'July 2021']"
      ]
     },
     "execution_count": 20,
     "metadata": {},
     "output_type": "execute_result"
    }
   ],
   "source": [
    "Published_Date = []\n",
    "for i in soup.find_all('span',class_=\"sc-1thf9ly-2 dvggWt\"):\n",
    "    Published_Date.append(i.text)\n",
    "Published_Date"
   ]
  },
  {
   "cell_type": "code",
   "execution_count": 21,
   "id": "a791b8fe",
   "metadata": {},
   "outputs": [
    {
     "data": {
      "text/plain": [
       "['https://www.sciencedirect.com/science/article/pii/S0004370221000862',\n",
       " 'https://www.sciencedirect.com/science/article/pii/S0004370218305988',\n",
       " 'https://www.sciencedirect.com/science/article/pii/S0004370298000551',\n",
       " 'https://www.sciencedirect.com/science/article/pii/S0004370214001386',\n",
       " 'https://www.sciencedirect.com/science/article/pii/S0004370221001788',\n",
       " 'https://www.sciencedirect.com/science/article/pii/S0004370215000910',\n",
       " 'https://www.sciencedirect.com/science/article/pii/S0004370299000521',\n",
       " 'https://www.sciencedirect.com/science/article/pii/S0004370221000539',\n",
       " 'https://www.sciencedirect.com/science/article/pii/S0004370220301958',\n",
       " 'https://www.sciencedirect.com/science/article/pii/S0004370221000515',\n",
       " 'https://www.sciencedirect.com/science/article/pii/S0004370220301533',\n",
       " 'https://www.sciencedirect.com/science/article/pii/S0004370223000073',\n",
       " 'https://www.sciencedirect.com/science/article/pii/S0004370221001065',\n",
       " 'https://www.sciencedirect.com/science/article/pii/S0004370222001795',\n",
       " 'https://www.sciencedirect.com/science/article/pii/S0004370221000102',\n",
       " 'https://www.sciencedirect.com/science/article/pii/S0004370219300116',\n",
       " 'https://www.sciencedirect.com/science/article/pii/S000437029700043X',\n",
       " 'https://www.sciencedirect.com/science/article/pii/S0004370216300790',\n",
       " 'https://www.sciencedirect.com/science/article/pii/S0004370221000096',\n",
       " 'https://www.sciencedirect.com/science/article/pii/S0004370216300224',\n",
       " 'https://www.sciencedirect.com/science/article/pii/S0004370211000178',\n",
       " 'https://www.sciencedirect.com/science/article/pii/S0004370222001692',\n",
       " 'https://www.sciencedirect.com/science/article/pii/S000437029800023X',\n",
       " 'https://www.sciencedirect.com/science/article/pii/S0004370221000242']"
      ]
     },
     "execution_count": 21,
     "metadata": {},
     "output_type": "execute_result"
    }
   ],
   "source": [
    "Paper_URL = []\n",
    "for i in soup.find_all('a',class_=\"sc-5smygv-0 fIXTHm\"):\n",
    "    Paper_URL.append(i.get(\"href\"))\n",
    "Paper_URL"
   ]
  },
  {
   "cell_type": "markdown",
   "id": "027e96c6",
   "metadata": {},
   "source": [
    "# Write a python program to scrape mentioned details from dineout.co.in and make data frame-"
   ]
  },
  {
   "cell_type": "markdown",
   "id": "b54ee5d3",
   "metadata": {},
   "source": [
    "i) Restaurant name\n",
    "ii) Cuisine\n",
    "iii) Location\n",
    "iv) Ratings\n",
    "v) Image URL"
   ]
  },
  {
   "cell_type": "code",
   "execution_count": 4,
   "id": "fb075693",
   "metadata": {},
   "outputs": [
    {
     "data": {
      "text/plain": [
       "<Response [200]>"
      ]
     },
     "execution_count": 4,
     "metadata": {},
     "output_type": "execute_result"
    }
   ],
   "source": [
    "import requests\n",
    "from bs4 import BeautifulSoup\n",
    " \n",
    "page=requests.get(\"https://www.dineout.co.in/delhi-restaurants/buffet-special\")\n",
    "page"
   ]
  },
  {
   "cell_type": "code",
   "execution_count": 5,
   "id": "cb054b93",
   "metadata": {},
   "outputs": [
    {
     "data": {
      "text/plain": [
       "[]"
      ]
     },
     "execution_count": 5,
     "metadata": {},
     "output_type": "execute_result"
    }
   ],
   "source": [
    "soup= BeautifulSoup(page9.content)\n",
    "\n",
    "Restaurant_name=[]\n",
    "for i in soup.find_all('a',class_=\"restnt-name ellipsis\"):\n",
    "    Restaurant_name.append(i.text)\n",
    "Restaurant_name\n",
    "    "
   ]
  },
  {
   "cell_type": "code",
   "execution_count": null,
   "id": "454b16a8",
   "metadata": {},
   "outputs": [],
   "source": []
  }
 ],
 "metadata": {
  "kernelspec": {
   "display_name": "Python 3 (ipykernel)",
   "language": "python",
   "name": "python3"
  },
  "language_info": {
   "codemirror_mode": {
    "name": "ipython",
    "version": 3
   },
   "file_extension": ".py",
   "mimetype": "text/x-python",
   "name": "python",
   "nbconvert_exporter": "python",
   "pygments_lexer": "ipython3",
   "version": "3.9.13"
  }
 },
 "nbformat": 4,
 "nbformat_minor": 5
}
